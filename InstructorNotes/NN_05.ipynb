{
  "nbformat": 4,
  "nbformat_minor": 0,
  "metadata": {
    "colab": {
      "provenance": []
    },
    "kernelspec": {
      "name": "python3",
      "display_name": "Python 3"
    },
    "language_info": {
      "name": "python"
    }
  },
  "cells": [
    {
      "cell_type": "code",
      "execution_count": 1,
      "metadata": {
        "id": "CA57K7Wnjo6r"
      },
      "outputs": [],
      "source": [
        "import tensorflow\n",
        "import keras"
      ]
    },
    {
      "cell_type": "code",
      "source": [
        "from keras.models import Sequential\n",
        "from keras.layers import Dense"
      ],
      "metadata": {
        "id": "9CwCJ4GHj08N"
      },
      "execution_count": 2,
      "outputs": []
    },
    {
      "cell_type": "code",
      "source": [
        "#Regression\n",
        "# the number of dense layers i add to the model denote the number of hidden layers, within each Dense the number of units denote the number of neurons\n",
        "# in tge input shape , you pass the dimension of the number of features in your data, for example if your data has three features x1,x2,x3 then input_shape is 3\n",
        "model=Sequential()\n",
        "# this is the first hidden layer with 4 neurons and 3 features in the input layer\n",
        "model.add(Dense(5,activation=\"tanh\",input_shape=(2,)))\n",
        "model.add(Dense(6,activation=\"relu\"))\n",
        "model.add(Dense(10,activation=\"relu\"))\n",
        "model.add(Dense(1))\n",
        "\n",
        "\n",
        "model.compile(loss=\"mean_squared_error\",optimizer=keras.optimizers.Adam(learning_rate=0.1),metrics=\"mean_squared_error\")\n",
        "\n",
        "\n"
      ],
      "metadata": {
        "colab": {
          "base_uri": "https://localhost:8080/"
        },
        "id": "IYHN6WTdm7VO",
        "outputId": "c730de48-d56e-4221-f3d9-9052ab55763f"
      },
      "execution_count": 3,
      "outputs": [
        {
          "output_type": "stream",
          "name": "stdout",
          "text": [
            "Model: \"sequential\"\n",
            "_________________________________________________________________\n",
            " Layer (type)                Output Shape              Param #   \n",
            "=================================================================\n",
            " dense (Dense)               (None, 5)                 15        \n",
            "                                                                 \n",
            " dense_1 (Dense)             (None, 6)                 36        \n",
            "                                                                 \n",
            " dense_2 (Dense)             (None, 10)                70        \n",
            "                                                                 \n",
            " dense_3 (Dense)             (None, 1)                 11        \n",
            "                                                                 \n",
            "=================================================================\n",
            "Total params: 132 (528.00 Byte)\n",
            "Trainable params: 132 (528.00 Byte)\n",
            "Non-trainable params: 0 (0.00 Byte)\n",
            "_________________________________________________________________\n"
          ]
        }
      ]
    },
    {
      "cell_type": "code",
      "source": [
        "#Binary Classification\n",
        "# the number of dense layers i add to the model denote the number of hidden layers, within each Dense the number of units denote the number of neurons\n",
        "# in tge input shape , you pass the dimension of the number of features in your data, for example if your data has three features x1,x2,x3 then input_shape is 3\n",
        "model=Sequential()\n",
        "# this is the first hidden layer with 4 neurons and 3 features in the input layer\n",
        "model.add(Dense(5,activation=\"tanh\",input_shape=(2,)))\n",
        "model.add(Dense(6,activation=\"relu\"))\n",
        "model.add(Dense(10,activation=\"relu\"))\n",
        "model.add(Dense(1,activation='sigmoid'))\n",
        "\n",
        "\n",
        "model.compile(loss=\"binary_crossentropy\",optimizer=keras.optimizers.Adam(learning_rate=0.1),metrics=[\"accuracy\",\"precision\",\"recall\"])\n"
      ],
      "metadata": {
        "id": "Zm-Ffks6wOrr"
      },
      "execution_count": null,
      "outputs": []
    },
    {
      "cell_type": "code",
      "source": [
        "#Multi Classification\n",
        "# the number of dense layers i add to the model denote the number of hidden layers, within each Dense the number of units denote the number of neurons\n",
        "# in tge input shape , you pass the dimension of the number of features in your data, for example if your data has three features x1,x2,x3 then input_shape is 3\n",
        "#number of classes depends on the number of output classes in the data\n",
        "number_of_classes=5\n",
        "model=Sequential()\n",
        "# this is the first hidden layer with 4 neurons and 3 features in the input layer\n",
        "model.add(Dense(5,activation=\"tanh\",input_shape=(2,)))\n",
        "model.add(Dense(6,activation=\"relu\"))\n",
        "model.add(Dense(10,activation=\"relu\"))\n",
        "model.add(Dense(number_of_classes,activation='softmax'))\n",
        "\n",
        "\n",
        "model.compile(loss=\"categorical_crossentropy\",optimizer=keras.optimizers.Adam(learning_rate=0.1),metrics=[\"accuracy\",\"precision\",\"recall\"])\n"
      ],
      "metadata": {
        "id": "A-Chowj8xDQn"
      },
      "execution_count": null,
      "outputs": []
    },
    {
      "cell_type": "code",
      "source": [
        "model.fit(X_train,y_train,epochs=10)\n"
      ],
      "metadata": {
        "id": "GNq6KUogvbdK"
      },
      "execution_count": null,
      "outputs": []
    }
  ]
}